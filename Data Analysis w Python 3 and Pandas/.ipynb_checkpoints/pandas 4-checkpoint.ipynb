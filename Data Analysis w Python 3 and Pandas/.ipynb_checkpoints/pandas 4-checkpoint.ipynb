{
 "cells": [
  {
   "cell_type": "code",
   "execution_count": 1,
   "metadata": {},
   "outputs": [
    {
     "data": {
      "text/html": [
       "<div>\n",
       "<style scoped>\n",
       "    .dataframe tbody tr th:only-of-type {\n",
       "        vertical-align: middle;\n",
       "    }\n",
       "\n",
       "    .dataframe tbody tr th {\n",
       "        vertical-align: top;\n",
       "    }\n",
       "\n",
       "    .dataframe thead th {\n",
       "        text-align: right;\n",
       "    }\n",
       "</style>\n",
       "<table border=\"1\" class=\"dataframe\">\n",
       "  <thead>\n",
       "    <tr style=\"text-align: right;\">\n",
       "      <th></th>\n",
       "      <th>Alaska</th>\n",
       "      <th>Arkansas</th>\n",
       "      <th>California</th>\n",
       "      <th>Colorado</th>\n",
       "      <th>Connecticut</th>\n",
       "      <th>Delaware</th>\n",
       "      <th>District of Columbia</th>\n",
       "      <th>Federal (FLSA)</th>\n",
       "      <th>Guam</th>\n",
       "      <th>Hawaii</th>\n",
       "      <th>...</th>\n",
       "      <th>Pennsylvania</th>\n",
       "      <th>Puerto Rico</th>\n",
       "      <th>Rhode Island</th>\n",
       "      <th>South Dakota</th>\n",
       "      <th>Utah</th>\n",
       "      <th>Vermont</th>\n",
       "      <th>Washington</th>\n",
       "      <th>West Virginia</th>\n",
       "      <th>Wisconsin</th>\n",
       "      <th>Wyoming</th>\n",
       "    </tr>\n",
       "  </thead>\n",
       "  <tbody>\n",
       "    <tr>\n",
       "      <th>Alaska</th>\n",
       "      <td>1.000000</td>\n",
       "      <td>-0.743439</td>\n",
       "      <td>0.754516</td>\n",
       "      <td>-0.422878</td>\n",
       "      <td>0.771947</td>\n",
       "      <td>0.081403</td>\n",
       "      <td>0.082651</td>\n",
       "      <td>0.765414</td>\n",
       "      <td>0.920181</td>\n",
       "      <td>0.865936</td>\n",
       "      <td>...</td>\n",
       "      <td>0.777697</td>\n",
       "      <td>-0.222159</td>\n",
       "      <td>0.610635</td>\n",
       "      <td>-0.830349</td>\n",
       "      <td>-0.490307</td>\n",
       "      <td>0.709562</td>\n",
       "      <td>0.232930</td>\n",
       "      <td>-0.467612</td>\n",
       "      <td>0.846757</td>\n",
       "      <td>0.866695</td>\n",
       "    </tr>\n",
       "    <tr>\n",
       "      <th>Arkansas</th>\n",
       "      <td>-0.743439</td>\n",
       "      <td>1.000000</td>\n",
       "      <td>-0.653002</td>\n",
       "      <td>0.191388</td>\n",
       "      <td>-0.520821</td>\n",
       "      <td>-0.186586</td>\n",
       "      <td>-0.027866</td>\n",
       "      <td>-0.313572</td>\n",
       "      <td>-0.501169</td>\n",
       "      <td>-0.438548</td>\n",
       "      <td>...</td>\n",
       "      <td>-0.313795</td>\n",
       "      <td>0.169855</td>\n",
       "      <td>-0.482036</td>\n",
       "      <td>0.856790</td>\n",
       "      <td>0.318335</td>\n",
       "      <td>-0.440933</td>\n",
       "      <td>-0.310576</td>\n",
       "      <td>0.561865</td>\n",
       "      <td>-0.433212</td>\n",
       "      <td>-0.688492</td>\n",
       "    </tr>\n",
       "    <tr>\n",
       "      <th>California</th>\n",
       "      <td>0.754516</td>\n",
       "      <td>-0.653002</td>\n",
       "      <td>1.000000</td>\n",
       "      <td>0.257105</td>\n",
       "      <td>0.958345</td>\n",
       "      <td>0.574726</td>\n",
       "      <td>0.611722</td>\n",
       "      <td>0.314444</td>\n",
       "      <td>0.546357</td>\n",
       "      <td>0.725835</td>\n",
       "      <td>...</td>\n",
       "      <td>0.369819</td>\n",
       "      <td>0.438446</td>\n",
       "      <td>0.907433</td>\n",
       "      <td>-0.474055</td>\n",
       "      <td>0.062575</td>\n",
       "      <td>0.952727</td>\n",
       "      <td>0.764781</td>\n",
       "      <td>0.016908</td>\n",
       "      <td>0.527028</td>\n",
       "      <td>0.923244</td>\n",
       "    </tr>\n",
       "    <tr>\n",
       "      <th>Colorado</th>\n",
       "      <td>-0.422878</td>\n",
       "      <td>0.191388</td>\n",
       "      <td>0.257105</td>\n",
       "      <td>1.000000</td>\n",
       "      <td>0.177823</td>\n",
       "      <td>0.761905</td>\n",
       "      <td>0.796957</td>\n",
       "      <td>-0.709397</td>\n",
       "      <td>-0.592026</td>\n",
       "      <td>-0.217265</td>\n",
       "      <td>...</td>\n",
       "      <td>-0.654783</td>\n",
       "      <td>0.893099</td>\n",
       "      <td>0.403906</td>\n",
       "      <td>0.588172</td>\n",
       "      <td>0.831704</td>\n",
       "      <td>0.259820</td>\n",
       "      <td>0.747984</td>\n",
       "      <td>0.727456</td>\n",
       "      <td>-0.540613</td>\n",
       "      <td>0.004714</td>\n",
       "    </tr>\n",
       "    <tr>\n",
       "      <th>Connecticut</th>\n",
       "      <td>0.771947</td>\n",
       "      <td>-0.520821</td>\n",
       "      <td>0.958345</td>\n",
       "      <td>0.177823</td>\n",
       "      <td>1.000000</td>\n",
       "      <td>0.548849</td>\n",
       "      <td>0.604935</td>\n",
       "      <td>0.401899</td>\n",
       "      <td>0.637223</td>\n",
       "      <td>0.795181</td>\n",
       "      <td>...</td>\n",
       "      <td>0.454935</td>\n",
       "      <td>0.432379</td>\n",
       "      <td>0.896202</td>\n",
       "      <td>-0.446754</td>\n",
       "      <td>-0.028406</td>\n",
       "      <td>0.959164</td>\n",
       "      <td>0.705501</td>\n",
       "      <td>0.003312</td>\n",
       "      <td>0.567502</td>\n",
       "      <td>0.953085</td>\n",
       "    </tr>\n",
       "  </tbody>\n",
       "</table>\n",
       "<p>5 rows × 39 columns</p>\n",
       "</div>"
      ],
      "text/plain": [
       "               Alaska  Arkansas  California  Colorado  Connecticut  Delaware  \\\n",
       "Alaska       1.000000 -0.743439    0.754516 -0.422878     0.771947  0.081403   \n",
       "Arkansas    -0.743439  1.000000   -0.653002  0.191388    -0.520821 -0.186586   \n",
       "California   0.754516 -0.653002    1.000000  0.257105     0.958345  0.574726   \n",
       "Colorado    -0.422878  0.191388    0.257105  1.000000     0.177823  0.761905   \n",
       "Connecticut  0.771947 -0.520821    0.958345  0.177823     1.000000  0.548849   \n",
       "\n",
       "             District of Columbia  Federal (FLSA)      Guam    Hawaii  ...  \\\n",
       "Alaska                   0.082651        0.765414  0.920181  0.865936  ...   \n",
       "Arkansas                -0.027866       -0.313572 -0.501169 -0.438548  ...   \n",
       "California               0.611722        0.314444  0.546357  0.725835  ...   \n",
       "Colorado                 0.796957       -0.709397 -0.592026 -0.217265  ...   \n",
       "Connecticut              0.604935        0.401899  0.637223  0.795181  ...   \n",
       "\n",
       "             Pennsylvania  Puerto Rico  Rhode Island  South Dakota      Utah  \\\n",
       "Alaska           0.777697    -0.222159      0.610635     -0.830349 -0.490307   \n",
       "Arkansas        -0.313795     0.169855     -0.482036      0.856790  0.318335   \n",
       "California       0.369819     0.438446      0.907433     -0.474055  0.062575   \n",
       "Colorado        -0.654783     0.893099      0.403906      0.588172  0.831704   \n",
       "Connecticut      0.454935     0.432379      0.896202     -0.446754 -0.028406   \n",
       "\n",
       "              Vermont  Washington  West Virginia  Wisconsin   Wyoming  \n",
       "Alaska       0.709562    0.232930      -0.467612   0.846757  0.866695  \n",
       "Arkansas    -0.440933   -0.310576       0.561865  -0.433212 -0.688492  \n",
       "California   0.952727    0.764781       0.016908   0.527028  0.923244  \n",
       "Colorado     0.259820    0.747984       0.727456  -0.540613  0.004714  \n",
       "Connecticut  0.959164    0.705501       0.003312   0.567502  0.953085  \n",
       "\n",
       "[5 rows x 39 columns]"
      ]
     },
     "execution_count": 1,
     "metadata": {},
     "output_type": "execute_result"
    }
   ],
   "source": [
    "import pandas as pd\n",
    "import numpy as np\n",
    "\n",
    "df = pd.read_csv(\"datasets/minwage.csv\")\n",
    "\n",
    "act_min_wage = pd.DataFrame()\n",
    "\n",
    "for name, group in df.groupby(\"State\"):\n",
    "    if act_min_wage.empty:\n",
    "        act_min_wage = group.set_index(\"Year\")[[\"Low.2018\"]].rename(columns={\"Low.2018\":name})\n",
    "    else:\n",
    "        act_min_wage = act_min_wage.join(group.set_index(\"Year\")[[\"Low.2018\"]].rename(columns={\"Low.2018\":name}))\n",
    "        \n",
    "act_min_wage.head()\n",
    "\n",
    "min_wage_corr = act_min_wage.replace(0, np.NaN).dropna(axis=1).corr().corr()\n",
    "\n",
    "min_wage_corr.head()"
   ]
  },
  {
   "cell_type": "code",
   "execution_count": 3,
   "metadata": {},
   "outputs": [
    {
     "data": {
      "text/plain": [
       "<matplotlib.image.AxesImage at 0x2666ae9b3c8>"
      ]
     },
     "execution_count": 3,
     "metadata": {},
     "output_type": "execute_result"
    },
    {
     "data": {
      "image/png": "[encoded data removed]",
      "text/plain": [
       "<Figure size 288x288 with 1 Axes>"
      ]
     },
     "metadata": {
      "needs_background": "light"
     },
     "output_type": "display_data"
    }
   ],
   "source": [
    "import matplotlib.pyplot as plt\n",
    "\n",
    "plt.matshow(min_wage_corr)"
   ]
  },
  {
   "cell_type": "code",
   "execution_count": 5,
   "metadata": {},
   "outputs": [
    {
     "ename": "AttributeError",
     "evalue": "'AxesSubplot' object has no attribute 'set_y_ticklabels'",
     "output_type": "error",
     "traceback": [
      "\u001b[1;31m---------------------------------------------------------------------------\u001b[0m",
      "\u001b[1;31mAttributeError\u001b[0m                            Traceback (most recent call last)",
      "\u001b[1;32m<ipython-input-5-44d0d895b2db>\u001b[0m in \u001b[0;36m<module>\u001b[1;34m\u001b[0m\n\u001b[0;32m      3\u001b[0m \u001b[0mfig\u001b[0m \u001b[1;33m=\u001b[0m \u001b[0mplt\u001b[0m\u001b[1;33m.\u001b[0m\u001b[0mfigure\u001b[0m\u001b[1;33m(\u001b[0m\u001b[0mfigsize\u001b[0m\u001b[1;33m=\u001b[0m\u001b[1;33m(\u001b[0m\u001b[1;36m12\u001b[0m\u001b[1;33m,\u001b[0m\u001b[1;36m12\u001b[0m\u001b[1;33m)\u001b[0m\u001b[1;33m)\u001b[0m\u001b[1;33m\u001b[0m\u001b[0m\n\u001b[0;32m      4\u001b[0m \u001b[0max\u001b[0m \u001b[1;33m=\u001b[0m \u001b[0mfig\u001b[0m\u001b[1;33m.\u001b[0m\u001b[0madd_subplot\u001b[0m\u001b[1;33m(\u001b[0m\u001b[1;36m111\u001b[0m\u001b[1;33m)\u001b[0m\u001b[1;33m\u001b[0m\u001b[0m\n\u001b[1;32m----> 5\u001b[1;33m \u001b[0max\u001b[0m\u001b[1;33m.\u001b[0m\u001b[0mset_y_ticklabels\u001b[0m\u001b[1;33m(\u001b[0m\u001b[0mlabels\u001b[0m\u001b[1;33m)\u001b[0m\u001b[1;33m\u001b[0m\u001b[0m\n\u001b[0m\u001b[0;32m      6\u001b[0m \u001b[0max\u001b[0m\u001b[1;33m.\u001b[0m\u001b[0mset_x_ticklabels\u001b[0m\u001b[1;33m(\u001b[0m\u001b[0mlabels\u001b[0m\u001b[1;33m)\u001b[0m\u001b[1;33m\u001b[0m\u001b[0m\n\u001b[0;32m      7\u001b[0m \u001b[0max\u001b[0m\u001b[1;33m.\u001b[0m\u001b[0mmatshow\u001b[0m\u001b[1;33m(\u001b[0m\u001b[0mmin_wage_corr\u001b[0m\u001b[1;33m,\u001b[0m \u001b[0mcmap\u001b[0m\u001b[1;33m=\u001b[0m\u001b[0mplt\u001b[0m\u001b[1;33m.\u001b[0m\u001b[0mcm\u001b[0m\u001b[1;33m.\u001b[0m\u001b[0mRdYlGn\u001b[0m\u001b[1;33m)\u001b[0m\u001b[1;33m\u001b[0m\u001b[0m\n",
      "\u001b[1;31mAttributeError\u001b[0m: 'AxesSubplot' object has no attribute 'set_y_ticklabels'"
     ]
    },
    {
     "data": {
      "image/png": "[encoded data removed]",
      "text/plain": [
       "<Figure size 864x864 with 1 Axes>"
      ]
     },
     "metadata": {
      "needs_background": "light"
     },
     "output_type": "display_data"
    }
   ],
   "source": [
    "labels = [c[:2] for c in min_wage_corr.columns]\n",
    "\n",
    "fig = plt.figure(figsize=(12,12))\n",
    "ax = fig.add_subplot(111)\n",
    "ax.set_yticklabels(labels)\n",
    "ax.set_xticklabels(labels)\n",
    "ax.matshow(min_wage_corr, cmap=plt.cm.RdYlGn)\n"
   ]
  },
  {
   "cell_type": "code",
   "execution_count": null,
   "metadata": {},
   "outputs": [],
   "source": []
  }
 ],
 "metadata": {
  "kernelspec": {
   "display_name": "Python 3",
   "language": "python",
   "name": "python3"
  },
  "language_info": {
   "codemirror_mode": {
    "name": "ipython",
    "version": 3
   },
   "file_extension": ".py",
   "mimetype": "text/x-python",
   "name": "python",
   "nbconvert_exporter": "python",
   "pygments_lexer": "ipython3",
   "version": "3.7.0"
  }
 },
 "nbformat": 4,
 "nbformat_minor": 2
}
